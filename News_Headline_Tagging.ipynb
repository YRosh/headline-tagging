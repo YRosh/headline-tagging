{
  "nbformat": 4,
  "nbformat_minor": 0,
  "metadata": {
    "colab": {
      "provenance": [],
      "gpuType": "T4"
    },
    "kernelspec": {
      "name": "python3",
      "display_name": "Python 3"
    },
    "language_info": {
      "name": "python"
    },
    "accelerator": "GPU"
  },
  "cells": [
    {
      "cell_type": "markdown",
      "source": [
        "Importing the [Dataset](https://www.kaggle.com/datasets/rmisra/news-category-dataset)"
      ],
      "metadata": {
        "id": "TSnNFic1D4PT"
      }
    },
    {
      "cell_type": "code",
      "execution_count": null,
      "metadata": {
        "colab": {
          "base_uri": "https://localhost:8080/"
        },
        "id": "sOWECdCPg4vr",
        "outputId": "64fe1ee4-51ab-4b73-b205-6c6e50266e66"
      },
      "outputs": [
        {
          "output_type": "stream",
          "name": "stdout",
          "text": [
            "Archive:  /content/News_Category_Dataset_v3.json.zip\n",
            "  inflating: News_Category_Dataset_v3.json  \n"
          ]
        }
      ],
      "source": [
        "!unzip \"/content/News_Category_Dataset_v3.json.zip\""
      ]
    },
    {
      "cell_type": "markdown",
      "source": [
        "Installing the necessary packages"
      ],
      "metadata": {
        "id": "wSvLH59FEUsH"
      }
    },
    {
      "cell_type": "code",
      "source": [
        "!pip install jsonlines"
      ],
      "metadata": {
        "colab": {
          "base_uri": "https://localhost:8080/"
        },
        "id": "eMX2DKFfjVpT",
        "outputId": "6da98598-12dc-4dec-e010-9f8a55bab469"
      },
      "execution_count": null,
      "outputs": [
        {
          "output_type": "stream",
          "name": "stdout",
          "text": [
            "Collecting jsonlines\n",
            "  Downloading jsonlines-4.0.0-py3-none-any.whl (8.7 kB)\n",
            "Requirement already satisfied: attrs>=19.2.0 in /usr/local/lib/python3.10/dist-packages (from jsonlines) (23.2.0)\n",
            "Installing collected packages: jsonlines\n",
            "Successfully installed jsonlines-4.0.0\n"
          ]
        }
      ]
    },
    {
      "cell_type": "code",
      "source": [
        "!pip install sentence-transformers"
      ],
      "metadata": {
        "colab": {
          "base_uri": "https://localhost:8080/"
        },
        "id": "7oChrcB0kLtn",
        "outputId": "31183440-efa5-4666-84f8-a3e16635151e"
      },
      "execution_count": null,
      "outputs": [
        {
          "output_type": "stream",
          "name": "stdout",
          "text": [
            "Collecting sentence-transformers\n",
            "  Downloading sentence_transformers-2.6.1-py3-none-any.whl (163 kB)\n",
            "\u001b[?25l     \u001b[90m━━━━━━━━━━━━━━━━━━━━━━━━━━━━━━━━━━━━━━━━\u001b[0m \u001b[32m0.0/163.3 kB\u001b[0m \u001b[31m?\u001b[0m eta \u001b[36m-:--:--\u001b[0m\r\u001b[2K     \u001b[91m━━━━━━━━━━\u001b[0m\u001b[90m╺\u001b[0m\u001b[90m━━━━━━━━━━━━━━━━━━━━━━━━━━━━━\u001b[0m \u001b[32m41.0/163.3 kB\u001b[0m \u001b[31m1.1 MB/s\u001b[0m eta \u001b[36m0:00:01\u001b[0m\r\u001b[2K     \u001b[91m━━━━━━━━━━━━━━━━━━━━━━━━━━━━━━━━━━━\u001b[0m\u001b[90m╺\u001b[0m\u001b[90m━━━━\u001b[0m \u001b[32m143.4/163.3 kB\u001b[0m \u001b[31m2.0 MB/s\u001b[0m eta \u001b[36m0:00:01\u001b[0m\r\u001b[2K     \u001b[90m━━━━━━━━━━━━━━━━━━━━━━━━━━━━━━━━━━━━━━━━\u001b[0m \u001b[32m163.3/163.3 kB\u001b[0m \u001b[31m2.0 MB/s\u001b[0m eta \u001b[36m0:00:00\u001b[0m\n",
            "\u001b[?25hRequirement already satisfied: transformers<5.0.0,>=4.32.0 in /usr/local/lib/python3.10/dist-packages (from sentence-transformers) (4.38.2)\n",
            "Requirement already satisfied: tqdm in /usr/local/lib/python3.10/dist-packages (from sentence-transformers) (4.66.2)\n",
            "Requirement already satisfied: torch>=1.11.0 in /usr/local/lib/python3.10/dist-packages (from sentence-transformers) (2.2.1+cu121)\n",
            "Requirement already satisfied: numpy in /usr/local/lib/python3.10/dist-packages (from sentence-transformers) (1.25.2)\n",
            "Requirement already satisfied: scikit-learn in /usr/local/lib/python3.10/dist-packages (from sentence-transformers) (1.2.2)\n",
            "Requirement already satisfied: scipy in /usr/local/lib/python3.10/dist-packages (from sentence-transformers) (1.11.4)\n",
            "Requirement already satisfied: huggingface-hub>=0.15.1 in /usr/local/lib/python3.10/dist-packages (from sentence-transformers) (0.20.3)\n",
            "Requirement already satisfied: Pillow in /usr/local/lib/python3.10/dist-packages (from sentence-transformers) (9.4.0)\n",
            "Requirement already satisfied: filelock in /usr/local/lib/python3.10/dist-packages (from huggingface-hub>=0.15.1->sentence-transformers) (3.13.3)\n",
            "Requirement already satisfied: fsspec>=2023.5.0 in /usr/local/lib/python3.10/dist-packages (from huggingface-hub>=0.15.1->sentence-transformers) (2023.6.0)\n",
            "Requirement already satisfied: requests in /usr/local/lib/python3.10/dist-packages (from huggingface-hub>=0.15.1->sentence-transformers) (2.31.0)\n",
            "Requirement already satisfied: pyyaml>=5.1 in /usr/local/lib/python3.10/dist-packages (from huggingface-hub>=0.15.1->sentence-transformers) (6.0.1)\n",
            "Requirement already satisfied: typing-extensions>=3.7.4.3 in /usr/local/lib/python3.10/dist-packages (from huggingface-hub>=0.15.1->sentence-transformers) (4.10.0)\n",
            "Requirement already satisfied: packaging>=20.9 in /usr/local/lib/python3.10/dist-packages (from huggingface-hub>=0.15.1->sentence-transformers) (24.0)\n",
            "Requirement already satisfied: sympy in /usr/local/lib/python3.10/dist-packages (from torch>=1.11.0->sentence-transformers) (1.12)\n",
            "Requirement already satisfied: networkx in /usr/local/lib/python3.10/dist-packages (from torch>=1.11.0->sentence-transformers) (3.2.1)\n",
            "Requirement already satisfied: jinja2 in /usr/local/lib/python3.10/dist-packages (from torch>=1.11.0->sentence-transformers) (3.1.3)\n",
            "Collecting nvidia-cuda-nvrtc-cu12==12.1.105 (from torch>=1.11.0->sentence-transformers)\n",
            "  Downloading nvidia_cuda_nvrtc_cu12-12.1.105-py3-none-manylinux1_x86_64.whl (23.7 MB)\n",
            "\u001b[2K     \u001b[90m━━━━━━━━━━━━━━━━━━━━━━━━━━━━━━━━━━━━━━━━\u001b[0m \u001b[32m23.7/23.7 MB\u001b[0m \u001b[31m46.0 MB/s\u001b[0m eta \u001b[36m0:00:00\u001b[0m\n",
            "\u001b[?25hCollecting nvidia-cuda-runtime-cu12==12.1.105 (from torch>=1.11.0->sentence-transformers)\n",
            "  Downloading nvidia_cuda_runtime_cu12-12.1.105-py3-none-manylinux1_x86_64.whl (823 kB)\n",
            "\u001b[2K     \u001b[90m━━━━━━━━━━━━━━━━━━━━━━━━━━━━━━━━━━━━━━━━\u001b[0m \u001b[32m823.6/823.6 kB\u001b[0m \u001b[31m69.1 MB/s\u001b[0m eta \u001b[36m0:00:00\u001b[0m\n",
            "\u001b[?25hCollecting nvidia-cuda-cupti-cu12==12.1.105 (from torch>=1.11.0->sentence-transformers)\n",
            "  Downloading nvidia_cuda_cupti_cu12-12.1.105-py3-none-manylinux1_x86_64.whl (14.1 MB)\n",
            "\u001b[2K     \u001b[90m━━━━━━━━━━━━━━━━━━━━━━━━━━━━━━━━━━━━━━━━\u001b[0m \u001b[32m14.1/14.1 MB\u001b[0m \u001b[31m31.0 MB/s\u001b[0m eta \u001b[36m0:00:00\u001b[0m\n",
            "\u001b[?25hCollecting nvidia-cudnn-cu12==8.9.2.26 (from torch>=1.11.0->sentence-transformers)\n",
            "  Downloading nvidia_cudnn_cu12-8.9.2.26-py3-none-manylinux1_x86_64.whl (731.7 MB)\n",
            "\u001b[2K     \u001b[90m━━━━━━━━━━━━━━━━━━━━━━━━━━━━━━━━━━━━━━━━\u001b[0m \u001b[32m731.7/731.7 MB\u001b[0m \u001b[31m2.0 MB/s\u001b[0m eta \u001b[36m0:00:00\u001b[0m\n",
            "\u001b[?25hCollecting nvidia-cublas-cu12==12.1.3.1 (from torch>=1.11.0->sentence-transformers)\n",
            "  Downloading nvidia_cublas_cu12-12.1.3.1-py3-none-manylinux1_x86_64.whl (410.6 MB)\n",
            "\u001b[2K     \u001b[90m━━━━━━━━━━━━━━━━━━━━━━━━━━━━━━━━━━━━━━━━\u001b[0m \u001b[32m410.6/410.6 MB\u001b[0m \u001b[31m3.4 MB/s\u001b[0m eta \u001b[36m0:00:00\u001b[0m\n",
            "\u001b[?25hCollecting nvidia-cufft-cu12==11.0.2.54 (from torch>=1.11.0->sentence-transformers)\n",
            "  Downloading nvidia_cufft_cu12-11.0.2.54-py3-none-manylinux1_x86_64.whl (121.6 MB)\n",
            "\u001b[2K     \u001b[90m━━━━━━━━━━━━━━━━━━━━━━━━━━━━━━━━━━━━━━━━\u001b[0m \u001b[32m121.6/121.6 MB\u001b[0m \u001b[31m7.8 MB/s\u001b[0m eta \u001b[36m0:00:00\u001b[0m\n",
            "\u001b[?25hCollecting nvidia-curand-cu12==10.3.2.106 (from torch>=1.11.0->sentence-transformers)\n",
            "  Downloading nvidia_curand_cu12-10.3.2.106-py3-none-manylinux1_x86_64.whl (56.5 MB)\n",
            "\u001b[2K     \u001b[90m━━━━━━━━━━━━━━━━━━━━━━━━━━━━━━━━━━━━━━━━\u001b[0m \u001b[32m56.5/56.5 MB\u001b[0m \u001b[31m12.1 MB/s\u001b[0m eta \u001b[36m0:00:00\u001b[0m\n",
            "\u001b[?25hCollecting nvidia-cusolver-cu12==11.4.5.107 (from torch>=1.11.0->sentence-transformers)\n",
            "  Downloading nvidia_cusolver_cu12-11.4.5.107-py3-none-manylinux1_x86_64.whl (124.2 MB)\n",
            "\u001b[2K     \u001b[90m━━━━━━━━━━━━━━━━━━━━━━━━━━━━━━━━━━━━━━━━\u001b[0m \u001b[32m124.2/124.2 MB\u001b[0m \u001b[31m7.4 MB/s\u001b[0m eta \u001b[36m0:00:00\u001b[0m\n",
            "\u001b[?25hCollecting nvidia-cusparse-cu12==12.1.0.106 (from torch>=1.11.0->sentence-transformers)\n",
            "  Downloading nvidia_cusparse_cu12-12.1.0.106-py3-none-manylinux1_x86_64.whl (196.0 MB)\n",
            "\u001b[2K     \u001b[90m━━━━━━━━━━━━━━━━━━━━━━━━━━━━━━━━━━━━━━━━\u001b[0m \u001b[32m196.0/196.0 MB\u001b[0m \u001b[31m4.3 MB/s\u001b[0m eta \u001b[36m0:00:00\u001b[0m\n",
            "\u001b[?25hCollecting nvidia-nccl-cu12==2.19.3 (from torch>=1.11.0->sentence-transformers)\n",
            "  Downloading nvidia_nccl_cu12-2.19.3-py3-none-manylinux1_x86_64.whl (166.0 MB)\n",
            "\u001b[2K     \u001b[90m━━━━━━━━━━━━━━━━━━━━━━━━━━━━━━━━━━━━━━━━\u001b[0m \u001b[32m166.0/166.0 MB\u001b[0m \u001b[31m4.6 MB/s\u001b[0m eta \u001b[36m0:00:00\u001b[0m\n",
            "\u001b[?25hCollecting nvidia-nvtx-cu12==12.1.105 (from torch>=1.11.0->sentence-transformers)\n",
            "  Downloading nvidia_nvtx_cu12-12.1.105-py3-none-manylinux1_x86_64.whl (99 kB)\n",
            "\u001b[2K     \u001b[90m━━━━━━━━━━━━━━━━━━━━━━━━━━━━━━━━━━━━━━━━\u001b[0m \u001b[32m99.1/99.1 kB\u001b[0m \u001b[31m15.0 MB/s\u001b[0m eta \u001b[36m0:00:00\u001b[0m\n",
            "\u001b[?25hRequirement already satisfied: triton==2.2.0 in /usr/local/lib/python3.10/dist-packages (from torch>=1.11.0->sentence-transformers) (2.2.0)\n",
            "Collecting nvidia-nvjitlink-cu12 (from nvidia-cusolver-cu12==11.4.5.107->torch>=1.11.0->sentence-transformers)\n",
            "  Downloading nvidia_nvjitlink_cu12-12.4.127-py3-none-manylinux2014_x86_64.whl (21.1 MB)\n",
            "\u001b[2K     \u001b[90m━━━━━━━━━━━━━━━━━━━━━━━━━━━━━━━━━━━━━━━━\u001b[0m \u001b[32m21.1/21.1 MB\u001b[0m \u001b[31m30.1 MB/s\u001b[0m eta \u001b[36m0:00:00\u001b[0m\n",
            "\u001b[?25hRequirement already satisfied: regex!=2019.12.17 in /usr/local/lib/python3.10/dist-packages (from transformers<5.0.0,>=4.32.0->sentence-transformers) (2023.12.25)\n",
            "Requirement already satisfied: tokenizers<0.19,>=0.14 in /usr/local/lib/python3.10/dist-packages (from transformers<5.0.0,>=4.32.0->sentence-transformers) (0.15.2)\n",
            "Requirement already satisfied: safetensors>=0.4.1 in /usr/local/lib/python3.10/dist-packages (from transformers<5.0.0,>=4.32.0->sentence-transformers) (0.4.2)\n",
            "Requirement already satisfied: joblib>=1.1.1 in /usr/local/lib/python3.10/dist-packages (from scikit-learn->sentence-transformers) (1.3.2)\n",
            "Requirement already satisfied: threadpoolctl>=2.0.0 in /usr/local/lib/python3.10/dist-packages (from scikit-learn->sentence-transformers) (3.4.0)\n",
            "Requirement already satisfied: MarkupSafe>=2.0 in /usr/local/lib/python3.10/dist-packages (from jinja2->torch>=1.11.0->sentence-transformers) (2.1.5)\n",
            "Requirement already satisfied: charset-normalizer<4,>=2 in /usr/local/lib/python3.10/dist-packages (from requests->huggingface-hub>=0.15.1->sentence-transformers) (3.3.2)\n",
            "Requirement already satisfied: idna<4,>=2.5 in /usr/local/lib/python3.10/dist-packages (from requests->huggingface-hub>=0.15.1->sentence-transformers) (3.6)\n",
            "Requirement already satisfied: urllib3<3,>=1.21.1 in /usr/local/lib/python3.10/dist-packages (from requests->huggingface-hub>=0.15.1->sentence-transformers) (2.0.7)\n",
            "Requirement already satisfied: certifi>=2017.4.17 in /usr/local/lib/python3.10/dist-packages (from requests->huggingface-hub>=0.15.1->sentence-transformers) (2024.2.2)\n",
            "Requirement already satisfied: mpmath>=0.19 in /usr/local/lib/python3.10/dist-packages (from sympy->torch>=1.11.0->sentence-transformers) (1.3.0)\n",
            "Installing collected packages: nvidia-nvtx-cu12, nvidia-nvjitlink-cu12, nvidia-nccl-cu12, nvidia-curand-cu12, nvidia-cufft-cu12, nvidia-cuda-runtime-cu12, nvidia-cuda-nvrtc-cu12, nvidia-cuda-cupti-cu12, nvidia-cublas-cu12, nvidia-cusparse-cu12, nvidia-cudnn-cu12, nvidia-cusolver-cu12, sentence-transformers\n",
            "Successfully installed nvidia-cublas-cu12-12.1.3.1 nvidia-cuda-cupti-cu12-12.1.105 nvidia-cuda-nvrtc-cu12-12.1.105 nvidia-cuda-runtime-cu12-12.1.105 nvidia-cudnn-cu12-8.9.2.26 nvidia-cufft-cu12-11.0.2.54 nvidia-curand-cu12-10.3.2.106 nvidia-cusolver-cu12-11.4.5.107 nvidia-cusparse-cu12-12.1.0.106 nvidia-nccl-cu12-2.19.3 nvidia-nvjitlink-cu12-12.4.127 nvidia-nvtx-cu12-12.1.105 sentence-transformers-2.6.1\n"
          ]
        }
      ]
    },
    {
      "cell_type": "markdown",
      "source": [
        "Importing required packages"
      ],
      "metadata": {
        "id": "2x8quAnIE4rg"
      }
    },
    {
      "cell_type": "code",
      "source": [
        "import pandas as pd\n",
        "import jsonlines\n",
        "from sentence_transformers import SentenceTransformer\n",
        "from sklearn.model_selection import train_test_split\n",
        "from sklearn.ensemble import RandomForestClassifier\n",
        "from sklearn.metrics import classification_report\n",
        "from sklearn.decomposition import KernelPCA\n",
        "import re"
      ],
      "metadata": {
        "id": "CY7hcFVNimau"
      },
      "execution_count": 1,
      "outputs": []
    },
    {
      "cell_type": "markdown",
      "source": [
        "Loading the dataset"
      ],
      "metadata": {
        "id": "CoPz_O4YFBUz"
      }
    },
    {
      "cell_type": "code",
      "source": [
        "with jsonlines.open('/content/News_Category_Dataset_v3.json') as reader:\n",
        "  df = pd.DataFrame(reader)\n",
        "df.head()"
      ],
      "metadata": {
        "colab": {
          "base_uri": "https://localhost:8080/",
          "height": 293
        },
        "id": "g52kRLaEi-wF",
        "outputId": "72648a5d-3494-4c4f-c6ab-e944eb990947"
      },
      "execution_count": 2,
      "outputs": [
        {
          "output_type": "execute_result",
          "data": {
            "text/plain": [
              "                                                link  \\\n",
              "0  https://www.huffpost.com/entry/covid-boosters-...   \n",
              "1  https://www.huffpost.com/entry/american-airlin...   \n",
              "2  https://www.huffpost.com/entry/funniest-tweets...   \n",
              "3  https://www.huffpost.com/entry/funniest-parent...   \n",
              "4  https://www.huffpost.com/entry/amy-cooper-lose...   \n",
              "\n",
              "                                            headline   category  \\\n",
              "0  Over 4 Million Americans Roll Up Sleeves For O...  U.S. NEWS   \n",
              "1  American Airlines Flyer Charged, Banned For Li...  U.S. NEWS   \n",
              "2  23 Of The Funniest Tweets About Cats And Dogs ...     COMEDY   \n",
              "3  The Funniest Tweets From Parents This Week (Se...  PARENTING   \n",
              "4  Woman Who Called Cops On Black Bird-Watcher Lo...  U.S. NEWS   \n",
              "\n",
              "                                   short_description               authors  \\\n",
              "0  Health experts said it is too early to predict...  Carla K. Johnson, AP   \n",
              "1  He was subdued by passengers and crew when he ...        Mary Papenfuss   \n",
              "2  \"Until you have a dog you don't understand wha...         Elyse Wanshel   \n",
              "3  \"Accidentally put grown-up toothpaste on my to...      Caroline Bologna   \n",
              "4  Amy Cooper accused investment firm Franklin Te...        Nina Golgowski   \n",
              "\n",
              "         date  \n",
              "0  2022-09-23  \n",
              "1  2022-09-23  \n",
              "2  2022-09-23  \n",
              "3  2022-09-23  \n",
              "4  2022-09-22  "
            ],
            "text/html": [
              "\n",
              "  <div id=\"df-fe98bc41-5f0e-4ecd-a965-8c070cab95dd\" class=\"colab-df-container\">\n",
              "    <div>\n",
              "<style scoped>\n",
              "    .dataframe tbody tr th:only-of-type {\n",
              "        vertical-align: middle;\n",
              "    }\n",
              "\n",
              "    .dataframe tbody tr th {\n",
              "        vertical-align: top;\n",
              "    }\n",
              "\n",
              "    .dataframe thead th {\n",
              "        text-align: right;\n",
              "    }\n",
              "</style>\n",
              "<table border=\"1\" class=\"dataframe\">\n",
              "  <thead>\n",
              "    <tr style=\"text-align: right;\">\n",
              "      <th></th>\n",
              "      <th>link</th>\n",
              "      <th>headline</th>\n",
              "      <th>category</th>\n",
              "      <th>short_description</th>\n",
              "      <th>authors</th>\n",
              "      <th>date</th>\n",
              "    </tr>\n",
              "  </thead>\n",
              "  <tbody>\n",
              "    <tr>\n",
              "      <th>0</th>\n",
              "      <td>https://www.huffpost.com/entry/covid-boosters-...</td>\n",
              "      <td>Over 4 Million Americans Roll Up Sleeves For O...</td>\n",
              "      <td>U.S. NEWS</td>\n",
              "      <td>Health experts said it is too early to predict...</td>\n",
              "      <td>Carla K. Johnson, AP</td>\n",
              "      <td>2022-09-23</td>\n",
              "    </tr>\n",
              "    <tr>\n",
              "      <th>1</th>\n",
              "      <td>https://www.huffpost.com/entry/american-airlin...</td>\n",
              "      <td>American Airlines Flyer Charged, Banned For Li...</td>\n",
              "      <td>U.S. NEWS</td>\n",
              "      <td>He was subdued by passengers and crew when he ...</td>\n",
              "      <td>Mary Papenfuss</td>\n",
              "      <td>2022-09-23</td>\n",
              "    </tr>\n",
              "    <tr>\n",
              "      <th>2</th>\n",
              "      <td>https://www.huffpost.com/entry/funniest-tweets...</td>\n",
              "      <td>23 Of The Funniest Tweets About Cats And Dogs ...</td>\n",
              "      <td>COMEDY</td>\n",
              "      <td>\"Until you have a dog you don't understand wha...</td>\n",
              "      <td>Elyse Wanshel</td>\n",
              "      <td>2022-09-23</td>\n",
              "    </tr>\n",
              "    <tr>\n",
              "      <th>3</th>\n",
              "      <td>https://www.huffpost.com/entry/funniest-parent...</td>\n",
              "      <td>The Funniest Tweets From Parents This Week (Se...</td>\n",
              "      <td>PARENTING</td>\n",
              "      <td>\"Accidentally put grown-up toothpaste on my to...</td>\n",
              "      <td>Caroline Bologna</td>\n",
              "      <td>2022-09-23</td>\n",
              "    </tr>\n",
              "    <tr>\n",
              "      <th>4</th>\n",
              "      <td>https://www.huffpost.com/entry/amy-cooper-lose...</td>\n",
              "      <td>Woman Who Called Cops On Black Bird-Watcher Lo...</td>\n",
              "      <td>U.S. NEWS</td>\n",
              "      <td>Amy Cooper accused investment firm Franklin Te...</td>\n",
              "      <td>Nina Golgowski</td>\n",
              "      <td>2022-09-22</td>\n",
              "    </tr>\n",
              "  </tbody>\n",
              "</table>\n",
              "</div>\n",
              "    <div class=\"colab-df-buttons\">\n",
              "\n",
              "  <div class=\"colab-df-container\">\n",
              "    <button class=\"colab-df-convert\" onclick=\"convertToInteractive('df-fe98bc41-5f0e-4ecd-a965-8c070cab95dd')\"\n",
              "            title=\"Convert this dataframe to an interactive table.\"\n",
              "            style=\"display:none;\">\n",
              "\n",
              "  <svg xmlns=\"http://www.w3.org/2000/svg\" height=\"24px\" viewBox=\"0 -960 960 960\">\n",
              "    <path d=\"M120-120v-720h720v720H120Zm60-500h600v-160H180v160Zm220 220h160v-160H400v160Zm0 220h160v-160H400v160ZM180-400h160v-160H180v160Zm440 0h160v-160H620v160ZM180-180h160v-160H180v160Zm440 0h160v-160H620v160Z\"/>\n",
              "  </svg>\n",
              "    </button>\n",
              "\n",
              "  <style>\n",
              "    .colab-df-container {\n",
              "      display:flex;\n",
              "      gap: 12px;\n",
              "    }\n",
              "\n",
              "    .colab-df-convert {\n",
              "      background-color: #E8F0FE;\n",
              "      border: none;\n",
              "      border-radius: 50%;\n",
              "      cursor: pointer;\n",
              "      display: none;\n",
              "      fill: #1967D2;\n",
              "      height: 32px;\n",
              "      padding: 0 0 0 0;\n",
              "      width: 32px;\n",
              "    }\n",
              "\n",
              "    .colab-df-convert:hover {\n",
              "      background-color: #E2EBFA;\n",
              "      box-shadow: 0px 1px 2px rgba(60, 64, 67, 0.3), 0px 1px 3px 1px rgba(60, 64, 67, 0.15);\n",
              "      fill: #174EA6;\n",
              "    }\n",
              "\n",
              "    .colab-df-buttons div {\n",
              "      margin-bottom: 4px;\n",
              "    }\n",
              "\n",
              "    [theme=dark] .colab-df-convert {\n",
              "      background-color: #3B4455;\n",
              "      fill: #D2E3FC;\n",
              "    }\n",
              "\n",
              "    [theme=dark] .colab-df-convert:hover {\n",
              "      background-color: #434B5C;\n",
              "      box-shadow: 0px 1px 3px 1px rgba(0, 0, 0, 0.15);\n",
              "      filter: drop-shadow(0px 1px 2px rgba(0, 0, 0, 0.3));\n",
              "      fill: #FFFFFF;\n",
              "    }\n",
              "  </style>\n",
              "\n",
              "    <script>\n",
              "      const buttonEl =\n",
              "        document.querySelector('#df-fe98bc41-5f0e-4ecd-a965-8c070cab95dd button.colab-df-convert');\n",
              "      buttonEl.style.display =\n",
              "        google.colab.kernel.accessAllowed ? 'block' : 'none';\n",
              "\n",
              "      async function convertToInteractive(key) {\n",
              "        const element = document.querySelector('#df-fe98bc41-5f0e-4ecd-a965-8c070cab95dd');\n",
              "        const dataTable =\n",
              "          await google.colab.kernel.invokeFunction('convertToInteractive',\n",
              "                                                    [key], {});\n",
              "        if (!dataTable) return;\n",
              "\n",
              "        const docLinkHtml = 'Like what you see? Visit the ' +\n",
              "          '<a target=\"_blank\" href=https://colab.research.google.com/notebooks/data_table.ipynb>data table notebook</a>'\n",
              "          + ' to learn more about interactive tables.';\n",
              "        element.innerHTML = '';\n",
              "        dataTable['output_type'] = 'display_data';\n",
              "        await google.colab.output.renderOutput(dataTable, element);\n",
              "        const docLink = document.createElement('div');\n",
              "        docLink.innerHTML = docLinkHtml;\n",
              "        element.appendChild(docLink);\n",
              "      }\n",
              "    </script>\n",
              "  </div>\n",
              "\n",
              "\n",
              "<div id=\"df-3d8b2067-a558-4d25-b6b9-d04f912c46ef\">\n",
              "  <button class=\"colab-df-quickchart\" onclick=\"quickchart('df-3d8b2067-a558-4d25-b6b9-d04f912c46ef')\"\n",
              "            title=\"Suggest charts\"\n",
              "            style=\"display:none;\">\n",
              "\n",
              "<svg xmlns=\"http://www.w3.org/2000/svg\" height=\"24px\"viewBox=\"0 0 24 24\"\n",
              "     width=\"24px\">\n",
              "    <g>\n",
              "        <path d=\"M19 3H5c-1.1 0-2 .9-2 2v14c0 1.1.9 2 2 2h14c1.1 0 2-.9 2-2V5c0-1.1-.9-2-2-2zM9 17H7v-7h2v7zm4 0h-2V7h2v10zm4 0h-2v-4h2v4z\"/>\n",
              "    </g>\n",
              "</svg>\n",
              "  </button>\n",
              "\n",
              "<style>\n",
              "  .colab-df-quickchart {\n",
              "      --bg-color: #E8F0FE;\n",
              "      --fill-color: #1967D2;\n",
              "      --hover-bg-color: #E2EBFA;\n",
              "      --hover-fill-color: #174EA6;\n",
              "      --disabled-fill-color: #AAA;\n",
              "      --disabled-bg-color: #DDD;\n",
              "  }\n",
              "\n",
              "  [theme=dark] .colab-df-quickchart {\n",
              "      --bg-color: #3B4455;\n",
              "      --fill-color: #D2E3FC;\n",
              "      --hover-bg-color: #434B5C;\n",
              "      --hover-fill-color: #FFFFFF;\n",
              "      --disabled-bg-color: #3B4455;\n",
              "      --disabled-fill-color: #666;\n",
              "  }\n",
              "\n",
              "  .colab-df-quickchart {\n",
              "    background-color: var(--bg-color);\n",
              "    border: none;\n",
              "    border-radius: 50%;\n",
              "    cursor: pointer;\n",
              "    display: none;\n",
              "    fill: var(--fill-color);\n",
              "    height: 32px;\n",
              "    padding: 0;\n",
              "    width: 32px;\n",
              "  }\n",
              "\n",
              "  .colab-df-quickchart:hover {\n",
              "    background-color: var(--hover-bg-color);\n",
              "    box-shadow: 0 1px 2px rgba(60, 64, 67, 0.3), 0 1px 3px 1px rgba(60, 64, 67, 0.15);\n",
              "    fill: var(--button-hover-fill-color);\n",
              "  }\n",
              "\n",
              "  .colab-df-quickchart-complete:disabled,\n",
              "  .colab-df-quickchart-complete:disabled:hover {\n",
              "    background-color: var(--disabled-bg-color);\n",
              "    fill: var(--disabled-fill-color);\n",
              "    box-shadow: none;\n",
              "  }\n",
              "\n",
              "  .colab-df-spinner {\n",
              "    border: 2px solid var(--fill-color);\n",
              "    border-color: transparent;\n",
              "    border-bottom-color: var(--fill-color);\n",
              "    animation:\n",
              "      spin 1s steps(1) infinite;\n",
              "  }\n",
              "\n",
              "  @keyframes spin {\n",
              "    0% {\n",
              "      border-color: transparent;\n",
              "      border-bottom-color: var(--fill-color);\n",
              "      border-left-color: var(--fill-color);\n",
              "    }\n",
              "    20% {\n",
              "      border-color: transparent;\n",
              "      border-left-color: var(--fill-color);\n",
              "      border-top-color: var(--fill-color);\n",
              "    }\n",
              "    30% {\n",
              "      border-color: transparent;\n",
              "      border-left-color: var(--fill-color);\n",
              "      border-top-color: var(--fill-color);\n",
              "      border-right-color: var(--fill-color);\n",
              "    }\n",
              "    40% {\n",
              "      border-color: transparent;\n",
              "      border-right-color: var(--fill-color);\n",
              "      border-top-color: var(--fill-color);\n",
              "    }\n",
              "    60% {\n",
              "      border-color: transparent;\n",
              "      border-right-color: var(--fill-color);\n",
              "    }\n",
              "    80% {\n",
              "      border-color: transparent;\n",
              "      border-right-color: var(--fill-color);\n",
              "      border-bottom-color: var(--fill-color);\n",
              "    }\n",
              "    90% {\n",
              "      border-color: transparent;\n",
              "      border-bottom-color: var(--fill-color);\n",
              "    }\n",
              "  }\n",
              "</style>\n",
              "\n",
              "  <script>\n",
              "    async function quickchart(key) {\n",
              "      const quickchartButtonEl =\n",
              "        document.querySelector('#' + key + ' button');\n",
              "      quickchartButtonEl.disabled = true;  // To prevent multiple clicks.\n",
              "      quickchartButtonEl.classList.add('colab-df-spinner');\n",
              "      try {\n",
              "        const charts = await google.colab.kernel.invokeFunction(\n",
              "            'suggestCharts', [key], {});\n",
              "      } catch (error) {\n",
              "        console.error('Error during call to suggestCharts:', error);\n",
              "      }\n",
              "      quickchartButtonEl.classList.remove('colab-df-spinner');\n",
              "      quickchartButtonEl.classList.add('colab-df-quickchart-complete');\n",
              "    }\n",
              "    (() => {\n",
              "      let quickchartButtonEl =\n",
              "        document.querySelector('#df-3d8b2067-a558-4d25-b6b9-d04f912c46ef button');\n",
              "      quickchartButtonEl.style.display =\n",
              "        google.colab.kernel.accessAllowed ? 'block' : 'none';\n",
              "    })();\n",
              "  </script>\n",
              "</div>\n",
              "\n",
              "    </div>\n",
              "  </div>\n"
            ],
            "application/vnd.google.colaboratory.intrinsic+json": {
              "type": "dataframe",
              "variable_name": "df"
            }
          },
          "metadata": {},
          "execution_count": 2
        }
      ]
    },
    {
      "cell_type": "code",
      "source": [
        "df['category'].value_counts()"
      ],
      "metadata": {
        "colab": {
          "base_uri": "https://localhost:8080/"
        },
        "id": "GGUa4qpdjA9Z",
        "outputId": "6d7e1d83-1a3a-46b0-edf0-6d46d7e24bfa"
      },
      "execution_count": 3,
      "outputs": [
        {
          "output_type": "execute_result",
          "data": {
            "text/plain": [
              "category\n",
              "POLITICS          35602\n",
              "WELLNESS          17945\n",
              "ENTERTAINMENT     17362\n",
              "TRAVEL             9900\n",
              "STYLE & BEAUTY     9814\n",
              "PARENTING          8791\n",
              "HEALTHY LIVING     6694\n",
              "QUEER VOICES       6347\n",
              "FOOD & DRINK       6340\n",
              "BUSINESS           5992\n",
              "COMEDY             5400\n",
              "SPORTS             5077\n",
              "BLACK VOICES       4583\n",
              "HOME & LIVING      4320\n",
              "PARENTS            3955\n",
              "THE WORLDPOST      3664\n",
              "WEDDINGS           3653\n",
              "WOMEN              3572\n",
              "CRIME              3562\n",
              "IMPACT             3484\n",
              "DIVORCE            3426\n",
              "WORLD NEWS         3299\n",
              "MEDIA              2944\n",
              "WEIRD NEWS         2777\n",
              "GREEN              2622\n",
              "WORLDPOST          2579\n",
              "RELIGION           2577\n",
              "STYLE              2254\n",
              "SCIENCE            2206\n",
              "TECH               2104\n",
              "TASTE              2096\n",
              "MONEY              1756\n",
              "ARTS               1509\n",
              "ENVIRONMENT        1444\n",
              "FIFTY              1401\n",
              "GOOD NEWS          1398\n",
              "U.S. NEWS          1377\n",
              "ARTS & CULTURE     1339\n",
              "COLLEGE            1144\n",
              "LATINO VOICES      1130\n",
              "CULTURE & ARTS     1074\n",
              "EDUCATION          1014\n",
              "Name: count, dtype: int64"
            ]
          },
          "metadata": {},
          "execution_count": 3
        }
      ]
    },
    {
      "cell_type": "code",
      "source": [
        "df.shape"
      ],
      "metadata": {
        "colab": {
          "base_uri": "https://localhost:8080/"
        },
        "id": "Zm9gEYXNjjd0",
        "outputId": "fbbcda73-94c3-4f73-8388-4dc519ac551f"
      },
      "execution_count": null,
      "outputs": [
        {
          "output_type": "execute_result",
          "data": {
            "text/plain": [
              "(209527, 6)"
            ]
          },
          "metadata": {},
          "execution_count": 5
        }
      ]
    },
    {
      "cell_type": "markdown",
      "source": [
        "Selecting only specific categories to have lesser rows to keep the training quicker"
      ],
      "metadata": {
        "id": "zd_YcSMbFFA7"
      }
    },
    {
      "cell_type": "code",
      "source": [
        "df_data = df[['headline', 'category']]\n",
        "df_data = df_data[df_data['category'].isin(['POLITICS', 'WELLNESS', 'ENTERTAINMENT'])]\n",
        "df_data.dropna(inplace=True)\n",
        "df_data.shape"
      ],
      "metadata": {
        "colab": {
          "base_uri": "https://localhost:8080/"
        },
        "id": "FbY09hb-pViC",
        "outputId": "56447a21-4bb6-454f-faee-8dd8c6b78f82"
      },
      "execution_count": 4,
      "outputs": [
        {
          "output_type": "execute_result",
          "data": {
            "text/plain": [
              "(70909, 2)"
            ]
          },
          "metadata": {},
          "execution_count": 4
        }
      ]
    },
    {
      "cell_type": "code",
      "source": [
        "headlines = df_data['headline'].tolist()\n",
        "categories = df_data['category'].tolist()"
      ],
      "metadata": {
        "id": "X-dsFC2Tj503"
      },
      "execution_count": 5,
      "outputs": []
    },
    {
      "cell_type": "markdown",
      "source": [
        "Basic text cleaning"
      ],
      "metadata": {
        "id": "PAc_9EMVFbdG"
      }
    },
    {
      "cell_type": "code",
      "source": [
        "def text_clean(text):\n",
        "  text = re.sub(r'[^A-Za-z0-9 .]+', '', text)\n",
        "  return text\n",
        "\n",
        "headlines = [text_clean(text) for text in headlines]"
      ],
      "metadata": {
        "id": "Yl-Ln4YspF02"
      },
      "execution_count": 6,
      "outputs": []
    },
    {
      "cell_type": "markdown",
      "source": [
        "BERT model to convert sentences to word embeddings"
      ],
      "metadata": {
        "id": "PSoLzueQGEtH"
      }
    },
    {
      "cell_type": "code",
      "source": [
        "model = SentenceTransformer('bert-base-nli-mean-tokens', device='cuda')\n",
        "headlineEmbeddings = model.encode(headlines)\n",
        "headlineEmbeddings[0]"
      ],
      "metadata": {
        "colab": {
          "base_uri": "https://localhost:8080/"
        },
        "id": "xzdWIPFEqF-A",
        "outputId": "a39ec20d-5215-4c30-c04d-4117388f1e8e"
      },
      "execution_count": 7,
      "outputs": [
        {
          "output_type": "stream",
          "name": "stderr",
          "text": [
            "/usr/local/lib/python3.10/dist-packages/huggingface_hub/utils/_token.py:88: UserWarning: \n",
            "The secret `HF_TOKEN` does not exist in your Colab secrets.\n",
            "To authenticate with the Hugging Face Hub, create a token in your settings tab (https://huggingface.co/settings/tokens), set it as secret in your Google Colab and restart your session.\n",
            "You will be able to reuse this secret in all of your notebooks.\n",
            "Please note that authentication is recommended but still optional to access public models or datasets.\n",
            "  warnings.warn(\n"
          ]
        },
        {
          "output_type": "execute_result",
          "data": {
            "text/plain": [
              "array([-7.58076966e-01,  1.19756505e-01,  1.53652668e+00,  1.94916278e-01,\n",
              "        5.19288599e-01, -1.04765809e+00,  8.65096867e-01,  1.07103162e-01,\n",
              "       -6.53860569e-01, -1.72367081e-01,  2.32030600e-01, -1.11791289e+00,\n",
              "        1.00537109e+00,  3.97259623e-01, -5.63177705e-01,  4.29334305e-02,\n",
              "       -5.17203271e-01,  2.84594476e-01,  4.21533138e-01, -1.01046181e+00,\n",
              "        2.85030715e-02, -2.22282141e-01,  8.09958298e-03, -9.39288735e-02,\n",
              "        1.06959248e+00, -7.56412983e-01, -4.23515558e-01, -1.18424380e+00,\n",
              "       -3.83749902e-01,  2.52491515e-02, -9.02195871e-01,  3.69470596e-01,\n",
              "       -5.92041016e-01, -1.92641139e-01,  3.77276868e-01,  2.82131881e-01,\n",
              "       -1.33229816e+00,  4.60853785e-01,  4.14373577e-02, -1.94462821e-01,\n",
              "        2.76312739e-01, -6.49961114e-01, -8.10949728e-02, -6.24468923e-01,\n",
              "       -1.77573609e+00, -8.08284134e-02,  3.97548050e-01,  4.34037149e-01,\n",
              "        1.08887470e+00, -1.66679752e+00, -1.05264151e+00,  4.38503206e-01,\n",
              "        9.69271839e-01, -3.32510144e-01, -9.19066429e-01, -3.65922719e-01,\n",
              "        3.78921181e-01, -1.83001962e-02, -6.18774235e-01,  9.27699953e-02,\n",
              "        9.72489491e-02,  8.89100432e-02, -1.32269394e+00,  1.73958950e-02,\n",
              "       -1.41642820e-02, -2.23395273e-01,  6.18405879e-01,  6.92731798e-01,\n",
              "       -1.03849880e-01, -2.29018524e-01, -3.23653042e-01, -1.23993987e-02,\n",
              "       -7.96062887e-01, -6.52022719e-01,  6.09977424e-01, -2.76733607e-01,\n",
              "       -6.91487491e-01,  3.47204715e-01,  3.11773241e-01, -3.21458191e-01,\n",
              "        4.24652189e-01,  4.69839945e-02,  8.51809919e-01, -3.41170371e-01,\n",
              "        3.47124577e-01, -7.91829050e-01, -6.43993080e-01, -2.08919120e+00,\n",
              "       -1.41090965e+00, -1.92944363e-01,  3.37229192e-01,  2.07706690e-01,\n",
              "        1.60151064e+00, -2.31743664e-01, -8.81228328e-01, -2.26191536e-01,\n",
              "        7.31971639e-04,  1.10764161e-03,  6.70269728e-02,  3.58427316e-01,\n",
              "        4.47517216e-01, -4.72952306e-01, -5.40898778e-02,  1.35316753e+00,\n",
              "       -4.89400253e-02,  7.86477566e-01, -4.46321964e-01, -6.04393482e-02,\n",
              "        1.91857204e-01,  2.23257169e-01,  3.27746540e-01, -3.66177373e-02,\n",
              "        6.23410270e-02,  5.43494463e-01, -6.88627362e-01, -5.10252357e-01,\n",
              "        4.27069739e-02,  4.30178076e-01,  1.61541343e-01,  2.99553126e-01,\n",
              "        9.40502822e-01,  4.12264764e-01, -5.26812851e-01,  1.02165289e-01,\n",
              "        5.61452985e-01,  5.03749549e-01, -1.35623634e-01,  6.85494244e-01,\n",
              "       -1.86611784e+00, -4.09086913e-01, -5.89426339e-01,  7.03892708e-01,\n",
              "       -5.13046205e-01, -4.82611388e-01,  5.42775951e-02,  5.19468844e-01,\n",
              "        4.47774351e-01,  3.50727290e-01, -1.94513530e-01, -6.73366487e-01,\n",
              "       -1.51842073e-01,  2.38391414e-01, -7.18380958e-02,  9.42750424e-02,\n",
              "        2.19135627e-01, -5.30411243e-01,  3.18532914e-01, -1.60641158e+00,\n",
              "        1.68958113e-01, -9.61827189e-02,  4.04026844e-02, -2.91293830e-01,\n",
              "        1.41178221e-01,  3.95773828e-01, -5.79060555e-01, -9.60059017e-02,\n",
              "        2.11024284e-01,  5.36490321e-01, -1.58763751e-01,  3.75512868e-01,\n",
              "        1.57413930e-01,  7.94204652e-01,  2.42457122e-01,  7.10362256e-01,\n",
              "       -1.40622780e-01,  5.12331605e-01,  7.71014750e-01, -2.80973703e-01,\n",
              "        8.16229999e-01, -1.88594028e-01, -1.35536224e-01,  1.29739797e+00,\n",
              "        2.46258354e+00,  1.83858439e-01,  4.29877073e-01, -2.90601671e-01,\n",
              "       -3.52642447e-01, -8.26601498e-03, -2.13934392e-01,  3.58731300e-01,\n",
              "        3.70021880e-01,  3.29396248e-01, -1.09269798e+00,  8.67975891e-01,\n",
              "       -4.41025794e-01, -4.89479333e-01, -1.63238019e-01,  2.84168631e-01,\n",
              "        6.62838995e-01, -2.23491117e-01, -1.98578686e-01,  5.57826102e-01,\n",
              "       -3.68085772e-01, -1.44669533e-01, -7.83132553e-01,  9.13454950e-01,\n",
              "        3.75947326e-01,  3.08449179e-01,  1.51312113e-01,  2.38827601e-01,\n",
              "       -3.79653722e-01, -2.46667936e-01,  6.94713175e-01, -4.11762774e-01,\n",
              "        4.72559273e-01,  1.08230972e+00,  1.03111160e+00,  3.46916109e-01,\n",
              "       -7.49684125e-02,  9.43546966e-02, -6.81996703e-01,  3.81731570e-01,\n",
              "        1.43585777e+00, -1.39967531e-01,  9.64925885e-01,  5.40770531e-01,\n",
              "       -1.45372087e-02, -4.21335071e-01, -1.17912006e+00, -1.56153128e-01,\n",
              "        1.30338088e-01,  3.45849812e-01,  6.48152351e-01, -7.10436031e-02,\n",
              "       -1.36288628e-01,  3.09812456e-01, -2.78915554e-01, -1.82133174e+00,\n",
              "       -4.75049973e-01, -1.85068518e-01,  1.69123083e-01, -3.00240546e-01,\n",
              "       -6.89439654e-01,  3.29878002e-01,  1.47738725e-01, -1.80450663e-01,\n",
              "       -1.49064505e+00, -7.38607198e-02,  6.62466288e-02, -4.56488341e-01,\n",
              "        3.26393038e-01,  6.23221338e-01,  9.81064677e-01,  6.06339991e-01,\n",
              "       -3.91922534e-01, -7.47991651e-02,  8.83140683e-01, -6.22861862e-01,\n",
              "       -9.12236869e-01,  6.00609422e-01, -2.71776170e-01,  5.85984401e-02,\n",
              "        5.40536223e-03, -7.10907429e-02, -7.68913805e-01,  7.24597573e-02,\n",
              "       -5.18348575e-01,  6.61579430e-01,  8.01288188e-01,  1.77095339e-01,\n",
              "        5.58755755e-01, -6.62195981e-01,  1.03742349e+00,  2.36786589e-01,\n",
              "       -8.81040871e-01,  4.25370961e-01, -4.70924765e-01, -3.02090645e-01,\n",
              "       -5.98408699e-01,  2.97051281e-01,  1.30884022e-01, -5.29198050e-01,\n",
              "       -5.30612767e-01,  4.59246010e-01, -4.30721551e-01, -6.13953397e-02,\n",
              "        1.09366842e-01, -4.11631525e-01, -9.73682925e-02,  2.08357707e-01,\n",
              "        8.21163654e-02,  3.45717400e-01,  3.22331488e-01, -4.31033760e-01,\n",
              "       -5.28541148e-01, -3.46751124e-01, -3.55759412e-01,  8.46250117e-01,\n",
              "        2.94449866e-01, -7.13803291e-01,  3.02517742e-01, -1.87195450e-01,\n",
              "        7.20817268e-01, -1.92264035e-01, -3.03873807e-01,  3.43921408e-02,\n",
              "        1.29072464e+00, -7.22046554e-01,  1.36440980e+00,  5.40563643e-01,\n",
              "       -2.94189900e-01, -5.05776048e-01, -4.59826738e-01, -1.65333882e-01,\n",
              "       -4.35617030e-01, -2.30916873e-01, -2.35953741e-02, -8.98800194e-01,\n",
              "       -4.22683448e-01, -1.28165412e+00, -8.39481831e-01, -1.00473857e+00,\n",
              "        1.11428821e+00,  3.99046481e-01,  7.42339790e-01,  5.84406316e-01,\n",
              "        1.36851817e-01,  3.59875828e-01,  7.40517437e-01, -3.93778384e-01,\n",
              "       -5.80394566e-01,  5.16861796e-01,  1.37257084e-01, -7.17588142e-02,\n",
              "        6.67004287e-01, -2.66104817e-01, -4.83488180e-02, -1.55234024e-01,\n",
              "       -1.94581956e-01,  1.36515841e-01,  5.92276633e-01, -9.14557278e-01,\n",
              "       -7.42688179e-02,  5.70306003e-01,  2.82777578e-01, -3.70694458e-01,\n",
              "       -1.40571102e-01,  6.06973730e-02,  1.64652511e-01,  5.63285291e-01,\n",
              "        2.31800675e+00, -7.38657773e-01, -1.37413323e-01,  2.85639048e-01,\n",
              "        2.95324653e-01,  2.21564732e-02,  9.96736139e-02,  4.38744932e-01,\n",
              "       -1.20649576e-01, -1.78242892e-01, -1.27412856e-01,  5.82794726e-01,\n",
              "        2.53418183e+00, -4.41190898e-01,  1.24464408e-01, -8.17350745e-02,\n",
              "       -4.20567185e-01,  6.59398958e-02, -3.51418033e-02,  2.13612080e-01,\n",
              "       -6.25906885e-01,  3.88813019e-01, -1.01523818e-02,  3.02386612e-01,\n",
              "       -1.20238006e-01,  6.95202172e-01, -5.41750252e-01, -6.08600259e-01,\n",
              "        4.44645911e-01, -1.46816254e-01,  9.55189168e-01,  2.22835824e-01,\n",
              "       -3.93770009e-01, -4.43856984e-01, -3.53117943e-01, -2.88614929e-01,\n",
              "        3.67499620e-01,  3.73394340e-01,  1.81527406e-01, -8.99607241e-01,\n",
              "        8.23484063e-01, -2.59729058e-01,  2.16633365e-01, -1.79468513e-01,\n",
              "        1.26162380e-01, -3.57358269e-02,  4.18764323e-01, -4.26382452e-01,\n",
              "        6.93416223e-02,  1.21156372e-01,  2.73444802e-01,  6.68429196e-01,\n",
              "        2.78720766e-01, -3.10793340e-01,  5.62357962e-01, -9.40901935e-01,\n",
              "        2.16978058e-01,  3.65499109e-01, -6.55950844e-01,  6.90274358e-01,\n",
              "        7.13551223e-01, -2.03638196e-01, -2.52501249e-01,  2.25050420e-01,\n",
              "        1.59667596e-01, -1.14787877e-01,  9.63066936e-01, -4.95264798e-01,\n",
              "        4.56861168e-01, -7.88762152e-01, -7.55322278e-01, -4.80691433e-01,\n",
              "       -2.42013454e-01, -5.88304818e-01, -6.05071902e-01,  5.82200587e-02,\n",
              "        2.54421711e-01, -5.55845916e-01, -9.27922308e-01,  8.29033673e-01,\n",
              "        3.34307402e-01, -1.14192545e+00, -1.69257954e-01, -3.74252856e-01,\n",
              "       -4.98928517e-01,  1.06919372e+00, -1.00035679e+00,  4.31505255e-02,\n",
              "       -6.51321784e-02, -1.25667703e+00,  1.93871245e-01, -5.97307086e-01,\n",
              "       -2.04165864e+00,  2.86197752e-01,  4.09747273e-01, -1.15529716e+00,\n",
              "        4.52801615e-01,  1.64690048e-01, -5.67237914e-01, -3.68134975e-01,\n",
              "       -5.06964207e-01, -2.33698532e-01, -1.70157090e-01, -1.11873679e-01,\n",
              "       -1.47991627e-01,  5.21952271e-01,  2.96537150e-02, -3.59877735e-01,\n",
              "        1.04114521e+00,  2.92966366e-01, -1.22637533e-01, -2.56531030e-01,\n",
              "       -1.40421286e-01,  6.26506507e-02,  6.06873930e-01, -1.65878415e-01,\n",
              "       -8.25025976e-01,  4.25764561e-01, -1.04186988e+00,  3.18590462e-01,\n",
              "       -1.62876248e-01, -6.39320239e-02, -9.78543818e-01,  1.87058330e-01,\n",
              "        1.08142376e+00, -1.78891942e-01,  8.55373681e-01,  6.44266829e-02,\n",
              "       -7.14827418e-01, -2.01564655e-01, -1.27381757e-01, -7.14279711e-02,\n",
              "        1.03287911e+00,  6.73701242e-02,  1.33508757e-01, -5.56722641e-01,\n",
              "        1.56948522e-01,  1.35897088e+00, -4.53594059e-01,  9.55817103e-01,\n",
              "       -4.41764414e-01, -5.40262043e-01, -6.12541676e-01,  1.91871846e+00,\n",
              "       -2.79866964e-01, -5.49202383e-01, -4.86414641e-01,  3.73649865e-01,\n",
              "        2.42623374e-01, -6.68921292e-01, -1.04685092e+00, -5.73716275e-02,\n",
              "       -4.08567697e-01, -1.18163550e+00, -3.00711304e-01, -5.59979558e-01,\n",
              "        2.58993298e-01, -4.29696172e-01,  4.46273267e-01, -6.21114790e-01,\n",
              "        2.49831781e-01, -2.96803653e-01, -1.92799047e-01, -7.26309344e-02,\n",
              "        9.76181123e-03,  8.22121739e-01, -5.26587307e-01, -2.63392717e-01,\n",
              "        2.30081230e-01, -7.58281350e-03,  6.16011359e-02,  9.54338908e-01,\n",
              "        5.29264092e-01, -9.10497725e-01,  3.13139744e-02,  8.12234730e-02,\n",
              "       -4.83586490e-01, -6.90611660e-01,  2.14297131e-01, -8.69233131e-01,\n",
              "        5.42828500e-01, -1.99414119e-01,  1.17673099e+00,  1.39171213e-01,\n",
              "       -7.11467385e-01, -6.69997096e-01,  4.70810354e-01,  2.85676807e-01,\n",
              "       -7.58805752e-01, -4.05299276e-01,  3.87001365e-01, -7.82917216e-02,\n",
              "        2.31457561e-01,  2.20186546e-01, -2.03724906e-01,  6.92678466e-02,\n",
              "       -4.46511477e-01, -1.32266593e+00,  7.83892214e-01, -1.81010842e-01,\n",
              "        1.31404683e-01,  5.07105887e-01,  1.40949553e-02, -3.72222453e-01,\n",
              "       -1.75014949e+00, -6.80646360e-01, -3.92833859e-01,  6.88767910e-01,\n",
              "       -1.11468089e+00, -7.60109723e-01, -8.85933995e-01, -1.13263392e+00,\n",
              "        5.88491559e-01,  3.31217289e-01, -5.56357205e-03,  1.43414885e-01,\n",
              "        1.34836972e-01,  4.93120581e-01,  2.23899260e-01,  5.73665977e-01,\n",
              "        1.72492981e-01,  4.33258504e-01, -1.97096262e-02,  2.30336577e-01,\n",
              "       -3.90452236e-01,  3.67361933e-01, -3.79142821e-01, -1.19445312e+00,\n",
              "       -2.07212523e-01,  4.09433693e-01,  7.70182908e-01,  1.89811930e-01,\n",
              "       -1.81596518e-01,  1.44629210e-01, -6.47513866e-01,  5.34343600e-01,\n",
              "        7.33317792e-01,  1.27299026e-01,  2.34029815e-01, -3.86120589e-03,\n",
              "        6.46733642e-02, -2.46201064e-02, -5.61243773e-01,  1.55052140e-01,\n",
              "       -1.91622660e-01,  2.98815757e-01, -2.55619437e-01,  1.07588041e+00,\n",
              "       -1.18817195e-01,  7.30432928e-01, -4.54940021e-01,  2.68242747e-01,\n",
              "        2.99495161e-01,  1.81413099e-01,  1.41959831e-01,  3.32531780e-01,\n",
              "       -2.78445542e-01,  1.94442987e-01,  3.21995884e-01,  4.40895081e-01,\n",
              "        3.49592686e-01,  2.46472701e-01, -6.32163644e-01, -3.36854935e-01,\n",
              "       -5.08092463e-01,  6.07751369e-01, -2.17533499e-01,  1.29959977e+00,\n",
              "       -5.39177060e-01, -5.44826448e-01, -3.48400891e-01, -2.89107531e-01,\n",
              "       -3.38350773e-01,  1.01444542e-01,  4.05423194e-01, -4.36505109e-01,\n",
              "       -1.35398775e-01, -4.25673693e-01, -2.58888632e-01, -1.00159302e-01,\n",
              "       -1.39455780e-01,  7.01741636e-01, -7.83317313e-02,  4.11441267e-01,\n",
              "        1.21973097e+00, -7.23488271e-01, -1.97687283e-01, -2.94839680e-01,\n",
              "       -9.16883469e-01, -1.42151132e-01,  1.95490375e-01, -8.33906829e-01,\n",
              "        4.22453098e-02,  1.48934513e-01, -8.43924806e-02, -4.99830134e-02,\n",
              "       -1.43623924e+00, -5.63790381e-01,  9.95555297e-02,  5.12454696e-02,\n",
              "        1.90393850e-01,  1.30095983e+00, -6.05869949e-01, -2.15109080e-01,\n",
              "        1.19658150e-01, -3.03405821e-02, -2.84004837e-01,  5.23491919e-01,\n",
              "       -1.91145390e-02,  1.16510046e+00, -1.80818848e-02,  2.26110250e-01,\n",
              "        5.22473827e-03, -9.11681652e-01,  2.45181903e-01,  8.78808349e-02,\n",
              "        6.50357068e-01, -3.12675536e-01, -1.22556262e-01,  3.89242709e-01,\n",
              "        1.96243897e-01, -2.40439653e-01,  5.08385301e-01,  1.95406228e-01,\n",
              "        9.17485654e-01,  7.58575857e-01,  1.43474564e-01,  3.91271263e-01,\n",
              "       -7.95315862e-01,  3.68515551e-01,  2.79635698e-01,  5.84306121e-02,\n",
              "        1.03182292e+00, -1.42428088e+00,  7.24489465e-02,  8.94478709e-02,\n",
              "       -7.07957447e-01, -2.41946369e-01,  1.02337289e+00, -5.16990006e-01,\n",
              "        7.49148279e-02, -1.00895154e+00, -8.29740942e-01,  3.39435428e-01,\n",
              "       -3.33890945e-01,  6.51691318e-01, -1.13453865e-02,  1.05097942e-01,\n",
              "       -3.97339284e-01, -2.28664175e-01,  1.12497576e-01,  3.04055244e-01,\n",
              "       -7.33008087e-01, -1.16371548e+00,  1.56224996e-01,  7.73746073e-01,\n",
              "       -6.53196454e-01,  2.79821783e-01,  2.11096907e+00, -3.24312240e-01,\n",
              "       -9.38563824e-01,  6.99147642e-01, -1.13558853e+00, -1.52022317e-01,\n",
              "        6.27030551e-01,  2.12408021e-01, -4.19094622e-01, -1.91006511e-01,\n",
              "        6.20338142e-01, -9.58750099e-02,  5.31016663e-02,  1.02044380e+00,\n",
              "        6.11986160e-01,  6.46956980e-01, -3.63933355e-01,  1.02460682e+00,\n",
              "       -1.62721798e-01, -4.04079631e-02, -1.15872443e+00,  2.42330149e-01,\n",
              "       -3.84380817e-01,  1.05493590e-02,  4.98665273e-02, -5.10032773e-01,\n",
              "       -2.88155019e-01, -1.29543793e+00, -6.05555288e-02,  2.86354750e-01,\n",
              "       -7.26384103e-01, -1.89055204e-01, -6.34488940e-01,  2.22155690e-01,\n",
              "        1.04318202e+00,  2.33585522e-01,  5.84463537e-01,  4.13951367e-01,\n",
              "        4.89079393e-02, -9.47144330e-01, -1.62127033e-01, -1.50502372e+00,\n",
              "       -2.95779891e-02,  8.62998128e-01, -2.51292080e-01, -8.82015303e-02,\n",
              "       -4.38468993e-01, -8.97177607e-02, -1.22053050e-01,  1.85573578e-01,\n",
              "       -1.85220852e-01,  1.04721403e-02,  6.80530846e-01, -4.49006647e-01,\n",
              "        8.26740265e-02,  1.03007174e+00, -4.99209732e-01,  5.94174862e-02,\n",
              "        1.53938264e-01, -1.26906776e+00, -2.14248803e-02, -1.16185212e+00,\n",
              "       -2.63321966e-01,  3.44752073e-01,  1.74615011e-01, -2.76208639e-01,\n",
              "       -6.09770596e-01, -1.00697599e-01,  6.64605618e-01, -6.16806559e-02],\n",
              "      dtype=float32)"
            ]
          },
          "metadata": {},
          "execution_count": 7
        }
      ]
    },
    {
      "cell_type": "code",
      "source": [
        "len(headlineEmbeddings), len(headlineEmbeddings[0])"
      ],
      "metadata": {
        "colab": {
          "base_uri": "https://localhost:8080/"
        },
        "id": "xDimQ94fqoek",
        "outputId": "07bb4033-2882-4dcd-ff30-fec6f41c353f"
      },
      "execution_count": 8,
      "outputs": [
        {
          "output_type": "execute_result",
          "data": {
            "text/plain": [
              "(70909, 768)"
            ]
          },
          "metadata": {},
          "execution_count": 8
        }
      ]
    },
    {
      "cell_type": "markdown",
      "source": [
        "Train and test split"
      ],
      "metadata": {
        "id": "w8IWwRlTGMB8"
      }
    },
    {
      "cell_type": "code",
      "source": [
        "X_train, X_test, y_train, y_test = train_test_split(headlineEmbeddings, categories, test_size=0.2, random_state=42)"
      ],
      "metadata": {
        "id": "yfHrSJiJ0UkK"
      },
      "execution_count": 9,
      "outputs": []
    },
    {
      "cell_type": "markdown",
      "source": [
        "Training a basic Random Forest Classifier"
      ],
      "metadata": {
        "id": "ApSs4lhKG3vg"
      }
    },
    {
      "cell_type": "code",
      "source": [
        "rf_classifier = RandomForestClassifier(n_estimators=100, random_state=42)\n",
        "rf_classifier.fit(X_train, y_train)\n",
        "\n",
        "y_pred = rf_classifier.predict(X_test)"
      ],
      "metadata": {
        "id": "JhtGNQVz2i0R"
      },
      "execution_count": null,
      "outputs": []
    },
    {
      "cell_type": "code",
      "source": [
        "print(classification_report(y_test, y_pred))"
      ],
      "metadata": {
        "colab": {
          "base_uri": "https://localhost:8080/"
        },
        "id": "JdWkKrJmAopQ",
        "outputId": "f720eccd-0572-4382-cc1a-4478d528bd13"
      },
      "execution_count": 12,
      "outputs": [
        {
          "output_type": "stream",
          "name": "stdout",
          "text": [
            "               precision    recall  f1-score   support\n",
            "\n",
            "ENTERTAINMENT       0.84      0.72      0.78      3463\n",
            "     POLITICS       0.86      0.92      0.89      7177\n",
            "     WELLNESS       0.84      0.84      0.84      3542\n",
            "\n",
            "     accuracy                           0.85     14182\n",
            "    macro avg       0.85      0.83      0.84     14182\n",
            " weighted avg       0.85      0.85      0.85     14182\n",
            "\n"
          ]
        }
      ]
    },
    {
      "cell_type": "markdown",
      "source": [
        "Saving the trained model to a pickle file. We can later load it for predictions"
      ],
      "metadata": {
        "id": "dU1QGKtUG-8q"
      }
    },
    {
      "cell_type": "code",
      "source": [
        "import pickle\n",
        "\n",
        "with open('random_forest_model.pkl', 'wb') as file:\n",
        "    pickle.dump(model, file)"
      ],
      "metadata": {
        "id": "ZmBFJbkVBPfX"
      },
      "execution_count": 13,
      "outputs": []
    }
  ]
}